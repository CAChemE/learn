{
 "metadata": {
  "name": "",
  "signature": "sha256:a9fede8ffa643511fefb6540d004166dd47b00379f8471bdbe2335e7b5d5a813"
 },
 "nbformat": 3,
 "nbformat_minor": 0,
 "worksheets": [
  {
   "cells": [
    {
     "cell_type": "heading",
     "level": 1,
     "metadata": {},
     "source": [
      "Scale-Up of a Batch Reactor / Escalado de un reactor discont\u00ednuo."
     ]
    },
    {
     "cell_type": "markdown",
     "metadata": {},
     "source": [
      "### Autor: Carlos Planelles ([CAChemE.org](http://CAChemE.org)) - Licencia: [CC-BY 4.0](https://creativecommons.org/licenses/by/4.0/)\n",
      "\n",
      "#### Fuente original: [Rachael L. Baumann and John L. Falconer](http://demonstrations.wolfram.com/ScaleUpOfABatchReactor/)\n"
     ]
    },
    {
     "cell_type": "markdown",
     "metadata": {},
     "source": [
      "Esta demostraci\u00f3n muestra por qu\u00e9 un reactor discont\u00ednuo con una camisa de refrigeraci\u00f3n permite su escalado (aumento el volumen de reacci\u00f3n). Conforme incrementamos el di\u00e1metro y la altura del reactor, el \u00e1rea de la superficie de transferencia de calor no aumenta lo suficiente con respecto al volumen de reacci\u00f3n y, por lo tanto, el calor generado supera el eliminado. Esto hace aumentar la temperatura del reactor de forma icontrolada y limita el escalado de este tipo de reactores."
     ]
    },
    {
     "cell_type": "markdown",
     "metadata": {},
     "source": [
      "\n",
      "Este ejemplo es para una reacci\u00f3n de primer orden exot\u00e9rmica, en fase l\u00edquida. El di\u00e1metro y la altura del reactor son iguales (proporci\u00f3n H/D = 1). Una camisa de refrigeraci\u00f3n alrededor del exterior de las transferencias del reactor el calor de la reactor. Al aumentar el tama\u00f1o del reactor, la temperatura m\u00e1xima se aproxima al l\u00edmite adiab\u00e1tico. Comportamiento del reactor adiab\u00e1tico se muestra al seleccionar la casilla de verificaci\u00f3n adiab\u00e1tico. Esto es independiente del tama\u00f1o del reactor."
     ]
    },
    {
     "cell_type": "heading",
     "level": 2,
     "metadata": {},
     "source": [
      "Escribimos las ecuaciones de balance de materia y de energ\u00eda"
     ]
    },
    {
     "cell_type": "markdown",
     "metadata": {},
     "source": [
      "B.M.:\n",
      "$$ \\frac{dN_A}{dt} = r_AV $$"
     ]
    },
    {
     "cell_type": "markdown",
     "metadata": {},
     "source": [
      "B.E.:\n",
      "$$ \\frac{dT}{dt} = \\frac{DH r_A V + U A (T_a - T)}{N_{A0} C_p} $$"
     ]
    },
    {
     "cell_type": "markdown",
     "metadata": {},
     "source": [
      "* $ A $ = \u00e1rea de transferencia de calor, en $\\mathrm{cm^2}$.\n",
      "* $ h $ = altura (y di\u00e1metro del reactor) del reactor, en $\\mathrm{cm}$.\n",
      "* $ V $ = volumen del ractor, en $\\mathrm{cm^3}$.\n",
      "* $ r_A $ = velocidad de reacci\u00f3n, en $\\mathrm{ \\frac{mol}{cm\u00b3min} }$.\n",
      "* $ k_0 $ = factor pre-exponencial, en $\\mathrm{ \\frac{1}{min} }$.\n",
      "* $ E_A $ = energ\u00eda de activaci\u00f3n, en $\\mathrm{ \\frac{J}{mol} }$.\n",
      "* $ R $ = constante ideal de los gases, en $\\mathrm{ \\frac{J}{mol K} }$.\n",
      "* $ T $ = temperatura de la reacci\u00f3n, en $\\mathrm{K}$.\n",
      "* $ C_A $ = concentraci\u00f3n de A, en $\\mathrm{ \\frac{mol}{cm\u00b3} }$.\n",
      "* $ C_A0 $ = concentraci\u00f3n inicial de A, en $\\mathrm{ \\frac{mol}{cm\u00b3} }$.\n",
      "* $ N_A $ = moles de A, en $\\mathrm{mol}$.\n",
      "* $ N_A0 $ = moles iniciales de A, en $\\mathrm{mol}$.\n",
      "* $ C_p $ = capacidad calor\u00edfica de A, en $\\mathrm{ \\frac{J}{mol K} }$.\n",
      "* $ DH_A $ = entalp\u00eda de reacci\u00f3n, en $\\mathrm{ \\frac{J}{mol} }$.\n",
      "* $ U $ = coeficiente de transmisi\u00f3n t\u00e9rmica, en $\\mathrm{ \\frac{J}{cm K min} }$.\n",
      "* $ T_a $ = temperatura de enfriamiento del l\u00edquido, en $\\mathrm{K}$."
     ]
    },
    {
     "cell_type": "heading",
     "level": 2,
     "metadata": {},
     "source": [
      "Importamos las librer\u00edas que vamos a usar:"
     ]
    },
    {
     "cell_type": "code",
     "collapsed": false,
     "input": [
      "%matplotlib inline \n",
      "\n",
      "import numpy as np\n",
      "import matplotlib.pyplot as plt \n",
      "from IPython.html.widgets import interact\n",
      "from scipy.integrate import odeint\n",
      "\n",
      "plt.style.use('bmh')"
     ],
     "language": "python",
     "metadata": {},
     "outputs": [],
     "prompt_number": 1
    },
    {
     "cell_type": "heading",
     "level": 2,
     "metadata": {},
     "source": [
      "Escribimos la clase reactor:"
     ]
    },
    {
     "cell_type": "code",
     "collapsed": false,
     "input": [
      "class reactor:\n",
      "    \n",
      "    def __init__(self, h, Ta, adiabatico = False):\n",
      "        \n",
      "        #condiciones iniciales y constantes\n",
      "        self.h = h # [m]\n",
      "        \n",
      "        self.T0 = 323. # [K] T\u00aa inicial\n",
      "        self.k0 = 100. # [min^-1]\n",
      "        self.E = 11000. # [J/mol]\n",
      "        self.R = 8.31 # [J\u00b7mol^-1\u00b7K^-1]\n",
      "        self.na0 = 100. # [mol] inicial\n",
      "        self.DH = -10000. # [J\u00b7mol^-1]\n",
      "        \n",
      "        if adiabatico == True:\n",
      "            self.U = 0 # [J\u00b7(cm\u00b7K\u00b7min)^-1]\n",
      "        else:\n",
      "            self.U = 60. # [J\u00b7(cm\u00b7K\u00b7min)^-1]\n",
      "        \n",
      "        self.Ta = Ta # Cooling temperature [K]\n",
      "        self.Cp = 41.8 # [J\u00b7mol^-1\u00b7K^-1]\n",
      "     \n",
      "    # La altura del reactor = al diametro interno\n",
      "    # Volumen y \u00e1rea de reacci\u00f3n se pueden simplificar:\n",
      "    \n",
      "    def area(self):\n",
      "        return (np.pi/4.*self.h**2) + (np.pi*self.h**2)\n",
      "    \n",
      "    def volumen(self):\n",
      "        return np.pi/4.*self.h**3\n",
      "   \n",
      "    # Cin\u00e9tica\n",
      "    def reac_veloc(self, T, na):\n",
      "        \n",
      "        # Arrhenius\n",
      "        self.k = self.k0*np.exp(-1.*self.E/(self.R*T))\n",
      "        \n",
      "        # Orden 1\n",
      "        self.r_a = -1.*self.k*self.concent(na)\n",
      "        \n",
      "        return self.r_a\n",
      "    \n",
      "    # Concentraci\u00f3n moles/volumen\n",
      "    def concent(self, na):\n",
      "        V = self.volumen()\n",
      "        return na/V\n",
      "    \n",
      "    # Balance de energ\u00eda\n",
      "    def dTdt(self, T, na):\n",
      "        a = self.DH*self.reac_veloc(T,na)*self.volumen()\n",
      "        b = self.U*self.area()*(self.Ta-T)\n",
      "        c = self.na0*self.Cp\n",
      "        return (a+b)/c\n",
      "    \n",
      "    # Balance de mater\u00eda\n",
      "    def dNadt(self, T, na):\n",
      "        return self.reac_veloc(T,na)*self.volumen()\n",
      "    \n",
      "    # Sistema de ecuaciones diferenciales\n",
      "    def ode(self, y, t):\n",
      "        \n",
      "        # Condiciones iniciales\n",
      "        T = y[0]\n",
      "        na = y[1]\n",
      "        \n",
      "        # Ecuaciones diferenciales\n",
      "        dTdt = self.dTdt(T,na)\n",
      "        dnadt = self.dNadt(T,na)\n",
      "        \n",
      "        return [dTdt,dnadt]\n",
      "        \n",
      "        "
     ],
     "language": "python",
     "metadata": {},
     "outputs": [],
     "prompt_number": 2
    },
    {
     "cell_type": "heading",
     "level": 2,
     "metadata": {},
     "source": [
      "Escribimos la funci\u00f3n sobre la que interactuaremos:"
     ]
    },
    {
     "cell_type": "code",
     "collapsed": false,
     "input": [
      "def batch_reactor(height, T_cooling, adiabatic):\n",
      "    \n",
      "    # Llamamos a la clase\n",
      "    reac = reactor(height,T_cooling, adiabatic)\n",
      "    \n",
      "    # Vector con espacio temporal a simular\n",
      "    t = np.linspace(0,1,150)\n",
      "    \n",
      "    # Condiciones inciales\n",
      "    y0 = [reac.T0, reac.na0]\n",
      "    \n",
      "    # Integraci\u00f3n\n",
      "    y_t = odeint(reac.ode, y0, t)\n",
      "    \n",
      "    \n",
      "    # Representaci\u00f3n de resultados\n",
      "    t_s = t*60 # [min to s]\n",
      "    \n",
      "    plt.plot(t_s,y_t[:,0])   \n",
      "    plt.ylabel('Temperature / K')\n",
      "    plt.xlabel('time / s')\n",
      "    \n",
      "    plt.title('Scale-up limits: \\n'+\n",
      "              'Temperature inside Batch Reactor')\n",
      "\n",
      "    \n",
      "    area_reactor =  reac.area()\n",
      "    volume_reactor =  reac.volumen()\n",
      "    \n",
      "    area_to_volume = area_reactor/volume_reactor\n",
      "    \n",
      "    #Use 8 characters, give f decimal places\n",
      "    a_reac_string = \"%8.0f\" % area_reactor\n",
      "    volume_reactor_string = \"%8.0f\" % volume_reactor\n",
      "    area2volume_string = \"%8.5f\" % area_to_volume\n",
      "    \n",
      "    # Adding these annotations to the graph\n",
      "    \n",
      "    plt.text(65, 323, #position (time, temperature)\n",
      "             \n",
      "             'Area to volume:' + area2volume_string + \\\n",
      "             ' $ \\mathrm{cm^{-1}} $ \\n'+ \\\n",
      "             \n",
      "             'Surface area:' + a_reac_string + \\\n",
      "             ' $ \\mathrm{cm^2} $ \\n'+ \\\n",
      "             \n",
      "             'Reacting volume:' + volume_reactor_string + \\\n",
      "             ' $ \\mathrm{cm^3} $ \\n \\n'+ \\\n",
      "             \n",
      "             '- CAChemE.org')\n",
      "    \n",
      "    #print(reac.h)\n",
      "    \n",
      "    "
     ],
     "language": "python",
     "metadata": {},
     "outputs": [],
     "prompt_number": 9
    },
    {
     "cell_type": "heading",
     "level": 2,
     "metadata": {},
     "source": [
      "Finalmente representamos los valores obtenidos mediante interact:"
     ]
    },
    {
     "cell_type": "code",
     "collapsed": false,
     "input": [
      "interact(batch_reactor,\n",
      "         height = (0.5, 103, 0.5),\n",
      "         T_cooling = (300, 350, 0.5),\n",
      "         adiabatic = False)"
     ],
     "language": "python",
     "metadata": {},
     "outputs": [
      {
       "metadata": {},
       "output_type": "pyout",
       "prompt_number": 10,
       "text": [
        "<function __main__.batch_reactor>"
       ]
      },
      {
       "metadata": {},
       "output_type": "display_data",
       "png": "[encoded data removed]",
       "text": [
        "<matplotlib.figure.Figure at 0x7cfc588>"
       ]
      }
     ],
     "prompt_number": 10
    },
    {
     "cell_type": "code",
     "collapsed": false,
     "input": [],
     "language": "python",
     "metadata": {},
     "outputs": [],
     "prompt_number": 4
    },
    {
     "cell_type": "code",
     "collapsed": false,
     "input": [],
     "language": "python",
     "metadata": {},
     "outputs": [],
     "prompt_number": 4
    }
   ],
   "metadata": {}
  }
 ]
}