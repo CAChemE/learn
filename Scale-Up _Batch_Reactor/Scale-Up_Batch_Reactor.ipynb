{
 "metadata": {
  "name": "",
  "signature": "sha256:b1f01478a876580ef15baa17f827fa81f33e1c61086a0409c8f371f2f5db3829"
 },
 "nbformat": 3,
 "nbformat_minor": 0,
 "worksheets": [
  {
   "cells": [
    {
     "cell_type": "heading",
     "level": 1,
     "metadata": {},
     "source": [
      "Scale-Up of a Batch Reactor / Aumento de volumen en un reactor discontinuo."
     ]
    },
    {
     "cell_type": "markdown",
     "metadata": {},
     "source": [
      "Esta demostraci\u00f3n muestra por qu\u00e9 un reactor discontinuo con una camisa de refrigeraci\u00f3n no se pueden ampliar demasiado. Ya que el di\u00e1metro y la altura del reactor aumenta, el \u00e1rea de la superficie de transferencia de calor dividido por el volumen disminuye, y por lo tanto el m\u00e1ximo de la temperatura aumenta."
     ]
    },
    {
     "cell_type": "markdown",
     "metadata": {},
     "source": [
      "\n",
      "Este ejemplo es para una reacci\u00f3n de primer orden exot\u00e9rmica, en fase l\u00edquida. El di\u00e1metro y la altura del reactor son iguales. Una camisa de refrigeraci\u00f3n alrededor del exterior de las transferencias del reactor el calor de la reactor. Al aumentar el tama\u00f1o del reactor, la temperatura m\u00e1xima se aproxima al l\u00edmite adiab\u00e1tico. Comportamiento del reactor adiab\u00e1tico se muestra al seleccionar la casilla de verificaci\u00f3n adiab\u00e1tico. Esto es independiente del tama\u00f1o del reactor."
     ]
    },
    {
     "cell_type": "heading",
     "level": 2,
     "metadata": {},
     "source": [
      "Importamos los moodle que vamos a usar."
     ]
    },
    {
     "cell_type": "code",
     "collapsed": false,
     "input": [
      "%matplotlib inline \n",
      "\n",
      "import numpy as np\n",
      "import matplotlib.pyplot as plt \n",
      "from IPython.html.widgets import interact\n",
      "from scipy.integrate import odeint"
     ],
     "language": "python",
     "metadata": {},
     "outputs": [],
     "prompt_number": 62
    },
    {
     "cell_type": "heading",
     "level": 2,
     "metadata": {},
     "source": [
      "Escribimos las ecuaciones de balance de materia y de energ\u00eda"
     ]
    },
    {
     "cell_type": "markdown",
     "metadata": {},
     "source": [
      "$$ \\frac{dN_A}{dt} = r_AV $$"
     ]
    },
    {
     "cell_type": "markdown",
     "metadata": {},
     "source": [
      "$$ \\frac{dT}{dt} = \\frac{DH r_A V + U A (T_a - T)}{N_A0 C_p} $$"
     ]
    },
    {
     "cell_type": "markdown",
     "metadata": {},
     "source": [
      " A = \u00e1rea de transferencia de calor (cm\u00b2).\n",
      " h = altura (y di\u00e1metro del reactor) del reactor (cm).\n",
      " V = volumen del ractor (cm\u00b3).\n",
      " $$ r_A $$ = velocidad de reacci\u00f3n ($$ \\frac{mol}{cm\u00b3min} $$).\n",
      " $$ k_0 $$ = factor pre-exponencial ($$ \\frac{1}{min} $$).\n",
      " $$ E_A $$ = energ\u00eda de activaci\u00f3n ($$ \\frac{J}{mol} $$).\n",
      " R = constante ideal de los gases ($$ \\frac{J}{mol K} $$).\n",
      " T = temperatura de la reacci\u00f3n (K)\n",
      " $$ C_A $$ = concentraci\u00f3n de A ($$ \\frac{mol}{cm\u00b3} $$).\n",
      " $$ C_A0 $$ = concentraci\u00f3n inicial de A ($$ \\frac{mol}{cm\u00b3} $$).\n",
      " $$ N_A $$ = moles de A (mol).\n",
      " $$ N_A0 $$ = moles iniciales de A (mol).\n",
      " $$ C_p $$ = capacidad calor\u00edfica de A ($$ \\frac{J}{mol K} $$).\n",
      " $$ DH_A $$ = entalp\u00eda de reacci\u00f3n ($$ \\frac{J}{mol} $$).\n",
      " U = coeficiente de transmisi\u00f3n t\u00e9rmica ($$ \\frac{J}{cm K min} $$).\n",
      " $$ T_a $$ = temperatura de enfriamiento del l\u00edquido (K)."
     ]
    },
    {
     "cell_type": "heading",
     "level": 2,
     "metadata": {},
     "source": [
      "Escribimos la clase reacctor"
     ]
    },
    {
     "cell_type": "code",
     "collapsed": false,
     "input": [
      "class reactor:\n",
      "    \n",
      "    def __init__(self, h, Ta, adiabatico = False):\n",
      "        \n",
      "        #condiciones iniciales y constantes\n",
      "        self.h = h\n",
      "        self.T0 = 280 #inicial\n",
      "        self.k0 = 100.\n",
      "        self.E = 11000.\n",
      "        self.R = 8.31\n",
      "        self.na0 = 100. #inicial\n",
      "        self.DH = -10000.\n",
      "        if adiabatico:\n",
      "            self.U = 0\n",
      "        else:\n",
      "            self.U = 60.\n",
      "        self.Ta = Ta\n",
      "        self.Cp = 41.8\n",
      "        \n",
      "    def area(self):\n",
      "        return (np.pi/4.*self.h**2) + (np.pi*self.h**2)\n",
      "    \n",
      "    def volumen(self):\n",
      "        return np.pi/4.*self.h**3\n",
      "    \n",
      "    def reac_veloc(self, T, na):\n",
      "        return -1.*self.k0*np.exp(-1.*self.E/(self.R*T))*self.concent(na)\n",
      "    \n",
      "    def concent(self, na):\n",
      "        V = self.volumen()\n",
      "        return na/V\n",
      "    \n",
      "    def dTdt(self, T, na):\n",
      "        a = self.DH*self.reac_veloc(T,na)*self.volumen()\n",
      "        b = self.U*self.area()*(self.Ta-T)\n",
      "        c = self.na0*self.Cp\n",
      "        return (a+b)/c\n",
      "    \n",
      "    def dNadt(self, T, na):\n",
      "        return self.reac_veloc(T,na)*self.volumen()\n",
      "    \n",
      "    \n",
      "    def ode(self, y, t):\n",
      "        \n",
      "        T = y[0]\n",
      "        na = y[1]\n",
      "        \n",
      "        dTdt = self.dTdt(T,na)\n",
      "        dnadt = self.dNadt(T,na)\n",
      "        \n",
      "        return [dTdt,dnadt]\n",
      "        \n",
      "        "
     ],
     "language": "python",
     "metadata": {},
     "outputs": [],
     "prompt_number": 63
    },
    {
     "cell_type": "heading",
     "level": 2,
     "metadata": {},
     "source": [
      "Escribimos la funci\u00f3n para el interact."
     ]
    },
    {
     "cell_type": "code",
     "collapsed": false,
     "input": [
      "def dibujo(h, Ta, adi):\n",
      "    reac = reactor(h,Ta, adiabatico = adi)\n",
      "    t = np.linspace(0,8,150)\n",
      "    y0 = [reac.T0, reac.na0]\n",
      "    y_t = odeint(reac.ode, y0, t)\n",
      "    \n",
      "    fig = plt.figure(1)\n",
      "    plt.plot(t,y_t[:,0])   \n",
      "    plt.ylabel('Temperatura')\n",
      "    plt.xlabel('tiempo')\n",
      "    plt.title('REPRESENTACI\u00d3N DEL REACTOR')\n",
      "    \n",
      "    fig = plt.figure(2)\n",
      "    plt.plot(t,y_t[:,1])   \n",
      "    plt.ylabel('moles de A')\n",
      "    plt.xlabel('tiempo')\n",
      "    plt.title('REPRESENTACI\u00d3N DEL REACTOR')\n",
      "    \n",
      "    return "
     ],
     "language": "python",
     "metadata": {},
     "outputs": [],
     "prompt_number": 64
    },
    {
     "cell_type": "heading",
     "level": 2,
     "metadata": {},
     "source": [
      "Finalmente representamos los valores obtenidos mediante interact."
     ]
    },
    {
     "cell_type": "code",
     "collapsed": false,
     "input": [
      "interact(dibujo, h = (0.5,25,0.5), Ta = (150, 500, 12.5), adi = (0,1,1))"
     ],
     "language": "python",
     "metadata": {},
     "outputs": [
      {
       "metadata": {},
       "output_type": "pyout",
       "prompt_number": 65,
       "text": [
        "<function __main__.dibujo>"
       ]
      },
      {
       "metadata": {},
       "output_type": "display_data",
       "png": "[encoded data removed]",
       "text": [
        "<matplotlib.figure.Figure at 0x7fdc805f8128>"
       ]
      },
      {
       "metadata": {},
       "output_type": "display_data",
       "png": "[encoded data removed]",
       "text": [
        "<matplotlib.figure.Figure at 0x7fdc805d1e10>"
       ]
      }
     ],
     "prompt_number": 65
    },
    {
     "cell_type": "code",
     "collapsed": false,
     "input": [],
     "language": "python",
     "metadata": {},
     "outputs": [],
     "prompt_number": 33
    },
    {
     "cell_type": "code",
     "collapsed": false,
     "input": [],
     "language": "python",
     "metadata": {},
     "outputs": []
    }
   ],
   "metadata": {}
  }
 ]
}