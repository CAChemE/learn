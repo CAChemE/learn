{
 "cells": [
  {
   "cell_type": "markdown",
   "metadata": {},
   "source": [
    "# Extrusion\n",
    "\n",
    "## Screw dosification stage modelling\n",
    "\n",
    "\n",
    "\n",
    "### Javier Hipólito Marsal\n",
    "\n",
    "\n",
    "<img src=\"static/screw.gif\" alt=\"screw,\" style=\"width: 700px ;\"/>\n",
    "\n",
    "This notebook states volumetric flow rate as a function of pressure drop. So screw & nozzle operating points can be analyzed and choose the most appropiate. \n",
    "\n",
    "<img src=\"static/screw2.png\" alt=\"screw\" style=\"width: 300px;\"/>\n"
   ]
  },
  {
   "cell_type": "markdown",
   "metadata": {},
   "source": [
    "### Assumptions \n",
    "\n",
    "Screw channel is rectangular \n",
    "\n",
    "Screw channel is unrolled (like a flat plate)\n",
    "\n",
    "Cylinder is a plane surface moving over screw channel\n",
    "\n",
    "Molten fluid is newtonian\n",
    "\n",
    "Fluid is uncompressible\n",
    "\n",
    "Process is continuos and has reached stationary conditions\n",
    "### Navier - Bernoulli equation\n",
    "\n",
    "This is the original equation, describes the motion of viscous fluid substances. Uses newton second law & merges with assumption that stress in the fluid is because of pressure & viscous diffusion.\n",
    "\n",
    "\\begin{array}{ll}\n",
    "\\frac{\\delta^2 v}{\\delta x^2} + \\frac{\\delta^2 v}{\\delta^2 y^2} = \\frac{1}{\\eta}(\\frac{dP}{dZ})\n",
    "\\end{array}\n",
    "\n",
    "\n",
    "Screw volumetric flow rate equation is the final step of this equation"
   ]
  },
  {
   "cell_type": "markdown",
   "metadata": {},
   "source": [
    "\n",
    "### Screw volumetric flow rate \n",
    "\n",
    "\n",
    "\\begin{array}{ll}\n",
    "Q^{screw} = \\frac{\\pi^2 D^2 (sin \\theta cos \\theta) h N}{2} - \\frac{h^3 \\pi D sin^2 \\theta \\Delta P}{12 \\eta L}  \n",
    "\\end{array}\n",
    "\n",
    "### Nozzle volumetric flow rate\n",
    "\n",
    "This equation is Hagen-Poiseuille which was obtained experimentally.\n",
    "\n",
    "\\begin{array}{ll}\n",
    "Q^{nozzle} = \\frac{\\pi R^4}{8 L} \\frac{\\Delta P}{\\eta}\n",
    "\\end{array}"
   ]
  },
  {
   "cell_type": "markdown",
   "metadata": {},
   "source": [
    "__Velocity across the screw__\n",
    "\n",
    "It is very interesting to see that both terms are produced because of pressure and fluid dragging. This plot shows how velocity behaves as a sum of both components.\n",
    "\n",
    "<img src=\"static/flow.png\" alt=\"flow\" style=\"width: 300px;\"/>"
   ]
  },
  {
   "cell_type": "markdown",
   "metadata": {},
   "source": [
    "__Code & conclusions__\n",
    "\n",
    "Play with variables (wide range available) to see how the system behaves and which nozzle should be taken for each screw.\n",
    "\n",
    "Screw length affects slope of Q = f(pressure drop) if it increases slope decreases.\n",
    "Channel depth affects intercept of flow rate so if it increases intercept decreases.\n",
    "\n",
    "Nozzle equation for Q=f(pressure drop) starts at the origin and when bigger the nozzle is the bigger its slope.\n",
    "\n",
    "Operating points are the ones where screw operating line and nozzle operating line intersect.\n",
    "\n",
    "Therefore, if nozzle  is small choose hight screw length vs channel depth. If it is greater just the opposite.\n",
    "\n",
    "__ Take a look at the code and choose the best operating point __"
   ]
  },
  {
   "cell_type": "code",
   "execution_count": 1,
   "metadata": {
    "collapsed": false
   },
   "outputs": [
    {
     "name": "stderr",
     "output_type": "stream",
     "text": [
      "C:\\Users\\Javier\\Anaconda3\\lib\\site-packages\\IPython\\html.py:14: ShimWarning: The `IPython.html` package has been deprecated. You should import from `notebook` instead. `IPython.html.widgets` has moved to `ipywidgets`.\n",
      "  \"`IPython.html.widgets` has moved to `ipywidgets`.\", ShimWarning)\n"
     ]
    }
   ],
   "source": [
    "# Import matplotlib (plotting) and numpy (numerical arrays).\n",
    "# This enables their use in the Notebook.\n",
    "%matplotlib inline\n",
    "import matplotlib.pyplot as plt\n",
    "import numpy as np\n",
    "import turtle\n",
    "\n",
    "\n",
    "# Import IPython's interact function which is used below to\n",
    "# build the interactive widgets\n",
    "from IPython.html.widgets import interact\n"
   ]
  },
  {
   "cell_type": "code",
   "execution_count": 6,
   "metadata": {
    "collapsed": false
   },
   "outputs": [
    {
     "data": {
      "image/png": "[encoded data removed]",
      "text/plain": [
       "<matplotlib.figure.Figure at 0x1cb272e7b38>"
      ]
     },
     "metadata": {},
     "output_type": "display_data"
    }
   ],
   "source": [
    "\n",
    "visc =  10**3 # [Pa s]\n",
    "R_nozzle= 0.0015 #[m]\n",
    "h = 0.0024 #[m]\n",
    "\n",
    "def plot_flow_rate(D=0.05,L = 1, angle= 17*2*np.pi/360, N = 100/60,L_nozzle = 0.04,plot_nozzle=True):\n",
    "    \n",
    "    \"\"\"\n",
    "    plot nozzle variable can be set to false in order to not to show its plot.\n",
    "    \"\"\"\n",
    "    R = D/2 #[m]\n",
    "    AP = np.linspace(100, 700, 100)*10**6 #[Pa]\n",
    "    Q = np.pi**2 * D**2 *(np.sin(angle)*np.cos(angle))*h*N/2 - h**3 * np.pi * D * np.sin(angle)**2 * AP/12/visc/L #[m3 s-1]\n",
    "\n",
    "    \n",
    "    Qn = np.pi * R_nozzle**4 / 8 / L_nozzle * AP/visc #[m3 s-1]\n",
    "\n",
    "\n",
    "    fig, ax = plt.subplots(figsize=(8, 6))\n",
    "    ax.set_xlabel('$\\Delta P $ (Pa) ')\n",
    "    ax.set_ylabel('Volumetric flow rate (m3 s)')\n",
    "    ax.set_title('Extrusion stage operating lines')\n",
    "\n",
    "    if plot_nozzle:\n",
    "        ax.plot(AP, Qn, color='red', linestyle='solid', linewidth=2)\n",
    "    \n",
    "    ax.plot(AP,  Q,  marker='o', linewidth=2)\n",
    "\n",
    "\n",
    "interact(plot_flow_rate, D=(0.01, 0.09, 0.01), L=(0.4,20,1), angle=(10*2*np.pi/360,30*2*np.pi/360,2*np.pi/360), N=(0.5,3,0.5),L_nozzle = (0.01,0.08,0.01), plot_nozzle=True);"
   ]
  }
 ],
 "metadata": {
  "kernelspec": {
   "display_name": "Python 3",
   "language": "python",
   "name": "python3"
  },
  "language_info": {
   "codemirror_mode": {
    "name": "ipython",
    "version": 3
   },
   "file_extension": ".py",
   "mimetype": "text/x-python",
   "name": "python",
   "nbconvert_exporter": "python",
   "pygments_lexer": "ipython3",
   "version": "3.5.2"
  },
  "widgets": {
   "state": {
    "76781d8d013c4fd598d837a0bb479442": {
     "views": [
      {
       "cell_index": 6
      }
     ]
    }
   },
   "version": "1.2.0"
  }
 },
 "nbformat": 4,
 "nbformat_minor": 2
}
